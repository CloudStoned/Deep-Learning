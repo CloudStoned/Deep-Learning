{
 "cells": [
  {
   "cell_type": "markdown",
   "id": "6c4a3edd-f49a-4fba-8d8d-eb1de77d434d",
   "metadata": {
    "jp-MarkdownHeadingCollapsed": true
   },
   "source": [
    "### COMPILE DIR"
   ]
  },
  {
   "cell_type": "code",
   "execution_count": 15,
   "id": "c41bc5d3-846b-49a1-9047-28448bad6b74",
   "metadata": {},
   "outputs": [
    {
     "name": "stderr",
     "output_type": "stream",
     "text": [
      "Processing users:   0%|                                                                         | 0/19 [00:00<?, ?it/s]"
     ]
    },
    {
     "name": "stdout",
     "output_type": "stream",
     "text": [
      "Processing files in D:\\SnapfoliaV2\\OJT SNAPFOLIA\\June 10 2024 - Snapfolia\\AC Narvaez - Itel RS4\n"
     ]
    },
    {
     "name": "stderr",
     "output_type": "stream",
     "text": [
      "Processing users:   0%|                                                                         | 0/19 [00:05<?, ?it/s]"
     ]
    },
    {
     "name": "stdout",
     "output_type": "stream",
     "text": [
      "Leaf class directory D:\\SnapfoliaV2\\OJT SNAPFOLIA\\June 10 2024 - Snapfolia\\AC Narvaez - Itel RS4\\Mangga does not exist in D:\\SnapfoliaV2\\OJT SNAPFOLIA\\June 10 2024 - Snapfolia\\AC Narvaez - Itel RS4.\n"
     ]
    },
    {
     "name": "stderr",
     "output_type": "stream",
     "text": [
      "Processing users:   5%|███▍                                                             | 1/19 [00:06<01:53,  6.31s/it]"
     ]
    },
    {
     "name": "stdout",
     "output_type": "stream",
     "text": [
      "Processing files in D:\\SnapfoliaV2\\OJT SNAPFOLIA\\June 10 2024 - Snapfolia\\Angelo Castillo - Redmi 10 (2022)\n"
     ]
    },
    {
     "name": "stderr",
     "output_type": "stream",
     "text": [
      "Processing users:  11%|██████▊                                                          | 2/19 [00:22<03:29, 12.33s/it]"
     ]
    },
    {
     "name": "stdout",
     "output_type": "stream",
     "text": [
      "Processing files in D:\\SnapfoliaV2\\OJT SNAPFOLIA\\June 10 2024 - Snapfolia\\Carlo Parducho - Infinix 05G (2023)\n"
     ]
    },
    {
     "name": "stderr",
     "output_type": "stream",
     "text": [
      "Processing users:  16%|██████████▎                                                      | 3/19 [00:51<05:13, 19.62s/it]"
     ]
    },
    {
     "name": "stdout",
     "output_type": "stream",
     "text": [
      "Leaf class directory D:\\SnapfoliaV2\\OJT SNAPFOLIA\\June 10 2024 - Snapfolia\\Carlo Parducho - Infinix 05G (2023)\\Palo Maria does not exist in D:\\SnapfoliaV2\\OJT SNAPFOLIA\\June 10 2024 - Snapfolia\\Carlo Parducho - Infinix 05G (2023).\n",
      "Processing files in D:\\SnapfoliaV2\\OJT SNAPFOLIA\\June 10 2024 - Snapfolia\\CBenedict Gutierrez - Huawei Nova10\n"
     ]
    },
    {
     "name": "stderr",
     "output_type": "stream",
     "text": [
      "Processing users:  21%|█████████████▋                                                   | 4/19 [01:12<05:04, 20.32s/it]"
     ]
    },
    {
     "name": "stdout",
     "output_type": "stream",
     "text": [
      "Processing files in D:\\SnapfoliaV2\\OJT SNAPFOLIA\\June 10 2024 - Snapfolia\\Cloud Bagtas - Infinix 05G\n"
     ]
    },
    {
     "name": "stderr",
     "output_type": "stream",
     "text": [
      "Processing users:  26%|█████████████████                                                | 5/19 [01:25<04:07, 17.66s/it]"
     ]
    },
    {
     "name": "stdout",
     "output_type": "stream",
     "text": [
      "Processing files in D:\\SnapfoliaV2\\OJT SNAPFOLIA\\June 10 2024 - Snapfolia\\Daniel Mercado - Infinix Smart 8\n"
     ]
    },
    {
     "name": "stderr",
     "output_type": "stream",
     "text": [
      "Processing users:  32%|████████████████████▌                                            | 6/19 [01:37<03:25, 15.82s/it]"
     ]
    },
    {
     "name": "stdout",
     "output_type": "stream",
     "text": [
      "Processing files in D:\\SnapfoliaV2\\OJT SNAPFOLIA\\June 10 2024 - Snapfolia\\Dhan Mabilangan - iPhone 13\n"
     ]
    },
    {
     "name": "stderr",
     "output_type": "stream",
     "text": [
      "Processing users:  37%|███████████████████████▉                                         | 7/19 [01:49<02:53, 14.42s/it]"
     ]
    },
    {
     "name": "stdout",
     "output_type": "stream",
     "text": [
      "Processing files in D:\\SnapfoliaV2\\OJT SNAPFOLIA\\June 10 2024 - Snapfolia\\Franco Villamor - Nubia Z50S\n"
     ]
    },
    {
     "name": "stderr",
     "output_type": "stream",
     "text": [
      "Processing users:  42%|███████████████████████████▎                                     | 8/19 [01:56<02:14, 12.26s/it]"
     ]
    },
    {
     "name": "stdout",
     "output_type": "stream",
     "text": [
      "Processing files in D:\\SnapfoliaV2\\OJT SNAPFOLIA\\June 10 2024 - Snapfolia\\Hans Fernando - Tecno Pova Neo 2\n"
     ]
    },
    {
     "name": "stderr",
     "output_type": "stream",
     "text": [
      "Processing users:  47%|██████████████████████████████▊                                  | 9/19 [02:20<02:38, 15.89s/it]"
     ]
    },
    {
     "name": "stdout",
     "output_type": "stream",
     "text": [
      "Leaf class directory D:\\SnapfoliaV2\\OJT SNAPFOLIA\\June 10 2024 - Snapfolia\\Hans Fernando - Tecno Pova Neo 2\\Palo Maria does not exist in D:\\SnapfoliaV2\\OJT SNAPFOLIA\\June 10 2024 - Snapfolia\\Hans Fernando - Tecno Pova Neo 2.\n",
      "Processing files in D:\\SnapfoliaV2\\OJT SNAPFOLIA\\June 10 2024 - Snapfolia\\Jester Cruz - iPhone 13 Pro\n"
     ]
    },
    {
     "name": "stderr",
     "output_type": "stream",
     "text": [
      "Processing users:  53%|█████████████████████████████████▋                              | 10/19 [02:37<02:26, 16.26s/it]"
     ]
    },
    {
     "name": "stdout",
     "output_type": "stream",
     "text": [
      "Leaf class directory D:\\SnapfoliaV2\\OJT SNAPFOLIA\\June 10 2024 - Snapfolia\\Jester Cruz - iPhone 13 Pro\\Palo Maria does not exist in D:\\SnapfoliaV2\\OJT SNAPFOLIA\\June 10 2024 - Snapfolia\\Jester Cruz - iPhone 13 Pro.\n",
      "Processing files in D:\\SnapfoliaV2\\OJT SNAPFOLIA\\June 10 2024 - Snapfolia\\Kurt Magcawas - Redmi Note 10\n"
     ]
    },
    {
     "name": "stderr",
     "output_type": "stream",
     "text": [
      "Processing users:  58%|█████████████████████████████████████                           | 11/19 [03:00<02:25, 18.15s/it]"
     ]
    },
    {
     "name": "stdout",
     "output_type": "stream",
     "text": [
      "Processing files in D:\\SnapfoliaV2\\OJT SNAPFOLIA\\June 10 2024 - Snapfolia\\Marvin Buquis - Redmi Note 11\n"
     ]
    },
    {
     "name": "stderr",
     "output_type": "stream",
     "text": [
      "Processing users:  63%|████████████████████████████████████████▍                       | 12/19 [03:20<02:11, 18.83s/it]"
     ]
    },
    {
     "name": "stdout",
     "output_type": "stream",
     "text": [
      "Processing files in D:\\SnapfoliaV2\\OJT SNAPFOLIA\\June 10 2024 - Snapfolia\\Neil Ongsinco - Realme 7\n"
     ]
    },
    {
     "name": "stderr",
     "output_type": "stream",
     "text": [
      "Processing users:  68%|███████████████████████████████████████████▊                    | 13/19 [03:37<01:49, 18.32s/it]"
     ]
    },
    {
     "name": "stdout",
     "output_type": "stream",
     "text": [
      "Processing files in D:\\SnapfoliaV2\\OJT SNAPFOLIA\\June 10 2024 - Snapfolia\\Nikka Farofaldane - iPhone 6s\n"
     ]
    },
    {
     "name": "stderr",
     "output_type": "stream",
     "text": [
      "Processing users:  68%|███████████████████████████████████████████▊                    | 13/19 [03:38<01:49, 18.32s/it]"
     ]
    },
    {
     "name": "stdout",
     "output_type": "stream",
     "text": [
      "Subfolder D:\\SnapfoliaV2\\OJT SNAPFOLIA\\June 10 2024 - Snapfolia\\Nikka Farofaldane - iPhone 6s\\Apitong\\Discard does not exist in D:\\SnapfoliaV2\\OJT SNAPFOLIA\\June 10 2024 - Snapfolia\\Nikka Farofaldane - iPhone 6s\\Apitong.\n"
     ]
    },
    {
     "name": "stderr",
     "output_type": "stream",
     "text": [
      "Processing users:  74%|███████████████████████████████████████████████▏                | 14/19 [04:00<01:38, 19.70s/it]"
     ]
    },
    {
     "name": "stdout",
     "output_type": "stream",
     "text": [
      "Processing files in D:\\SnapfoliaV2\\OJT SNAPFOLIA\\June 10 2024 - Snapfolia\\Prince Mampusti - Huawei Y7\n"
     ]
    },
    {
     "name": "stderr",
     "output_type": "stream",
     "text": [
      "Processing users:  79%|██████████████████████████████████████████████████▌             | 15/19 [04:34<01:35, 23.83s/it]"
     ]
    },
    {
     "name": "stdout",
     "output_type": "stream",
     "text": [
      "Processing files in D:\\SnapfoliaV2\\OJT SNAPFOLIA\\June 10 2024 - Snapfolia\\Reymer Unciano - Honor 8x\n"
     ]
    },
    {
     "name": "stderr",
     "output_type": "stream",
     "text": [
      "Processing users:  84%|█████████████████████████████████████████████████████▉          | 16/19 [05:05<01:18, 26.09s/it]"
     ]
    },
    {
     "name": "stdout",
     "output_type": "stream",
     "text": [
      "Processing files in D:\\SnapfoliaV2\\OJT SNAPFOLIA\\June 10 2024 - Snapfolia\\Yvonne Galicia - Samsung Galaxy A32\n"
     ]
    },
    {
     "name": "stderr",
     "output_type": "stream",
     "text": [
      "Processing users:  89%|█████████████████████████████████████████████████████████▎      | 17/19 [05:33<00:53, 26.77s/it]"
     ]
    },
    {
     "name": "stdout",
     "output_type": "stream",
     "text": [
      "Processing files in D:\\SnapfoliaV2\\OJT SNAPFOLIA\\June 10 2024 - Snapfolia\\z Alren Tobias - Huawei Nova 7\n"
     ]
    },
    {
     "name": "stderr",
     "output_type": "stream",
     "text": [
      "Processing users:  95%|████████████████████████████████████████████████████████████▋   | 18/19 [05:58<00:26, 26.05s/it]"
     ]
    },
    {
     "name": "stdout",
     "output_type": "stream",
     "text": [
      "Processing files in D:\\SnapfoliaV2\\OJT SNAPFOLIA\\June 10 2024 - Snapfolia\\z Clark Abutal - iPhone 11 ata\n"
     ]
    },
    {
     "name": "stderr",
     "output_type": "stream",
     "text": [
      "Processing users:  95%|████████████████████████████████████████████████████████████▋   | 18/19 [06:09<00:26, 26.05s/it]"
     ]
    },
    {
     "name": "stdout",
     "output_type": "stream",
     "text": [
      "Leaf class directory D:\\SnapfoliaV2\\OJT SNAPFOLIA\\June 10 2024 - Snapfolia\\z Clark Abutal - iPhone 11 ata\\Mangga does not exist in D:\\SnapfoliaV2\\OJT SNAPFOLIA\\June 10 2024 - Snapfolia\\z Clark Abutal - iPhone 11 ata.\n"
     ]
    },
    {
     "name": "stderr",
     "output_type": "stream",
     "text": [
      "Processing users: 100%|████████████████████████████████████████████████████████████████| 19/19 [06:11<00:00, 19.55s/it]"
     ]
    },
    {
     "name": "stdout",
     "output_type": "stream",
     "text": [
      "Files copied to new directory structure under DS_COMPILED\n"
     ]
    },
    {
     "name": "stderr",
     "output_type": "stream",
     "text": [
      "\n"
     ]
    }
   ],
   "source": [
    "import os\n",
    "import shutil\n",
    "from tqdm import tqdm\n",
    "\n",
    "# Define the root directory for the original dataset\n",
    "original_root_dir = r'D:\\SnapfoliaV2\\OJT SNAPFOLIA\\June 10 2024 - Snapfolia'\n",
    "\n",
    "# Define the root directory for the new dataset\n",
    "new_dataset_root_dir = r'DS_COMPILED'\n",
    "\n",
    "# Define the leaf classes\n",
    "leaf_classes = [\"Apitong\", \"Balete\", \"Bayabas\", \"Kamagong\", \"Langka\", \"Mahogany\", \"Mangga\", \"Palo Maria\"]\n",
    "\n",
    "# Define the subfolders to look for within each leaf class directory\n",
    "subfolders = [\"Back\", \"Discard\", \"Front\", \"Tilt\"]\n",
    "\n",
    "# Create the new dataset root directory\n",
    "os.makedirs(new_dataset_root_dir, exist_ok=True)\n",
    "\n",
    "# Create subdirectories named after the leaf classes within the new dataset directory\n",
    "for leaf_class in leaf_classes:\n",
    "    leaf_class_dir = os.path.join(new_dataset_root_dir, leaf_class)\n",
    "    os.makedirs(leaf_class_dir, exist_ok=True)\n",
    "\n",
    "def copy_files_to_new_structure(original_root, new_root, leaf_classes, subfolders):\n",
    "    for user_dir in tqdm(os.listdir(original_root), desc=\"Processing users\"):\n",
    "        user_dir_path = os.path.join(original_root, user_dir)\n",
    "        if os.path.isdir(user_dir_path):\n",
    "            tqdm.write(f\"Processing files in {user_dir_path}\")\n",
    "            # Iterate through leaf classes within each user directory\n",
    "            for leaf_class in leaf_classes:\n",
    "                leaf_class_dir_path = os.path.join(user_dir_path, leaf_class)\n",
    "                if os.path.isdir(leaf_class_dir_path):\n",
    "                    for subfolder in subfolders:\n",
    "                        subfolder_path = os.path.join(leaf_class_dir_path, subfolder)\n",
    "                        if os.path.isdir(subfolder_path):\n",
    "                            for filename in os.listdir(subfolder_path):\n",
    "                                src_file = os.path.join(subfolder_path, filename)\n",
    "                                dest_dir = os.path.join(new_root, leaf_class)\n",
    "                                os.makedirs(dest_dir, exist_ok=True)\n",
    "                                dest_file = os.path.join(dest_dir, filename)\n",
    "                                shutil.copy(src_file, dest_file)\n",
    "                        else:\n",
    "                            tqdm.write(f\"Subfolder {subfolder_path} does not exist in {leaf_class_dir_path}.\")\n",
    "                else:\n",
    "                    tqdm.write(f\"Leaf class directory {leaf_class_dir_path} does not exist in {user_dir_path}.\")\n",
    "\n",
    "# Call the function to copy files\n",
    "copy_files_to_new_structure(original_root_dir, new_dataset_root_dir, leaf_classes, subfolders)\n",
    "\n",
    "print(f\"Files copied to new directory structure under {new_dataset_root_dir}\")\n"
   ]
  },
  {
   "cell_type": "markdown",
   "id": "09dbf924-829d-4815-a918-624fc594caeb",
   "metadata": {},
   "source": [
    "### GET SPECIFIC NUM OF IMAGES"
   ]
  },
  {
   "cell_type": "code",
   "execution_count": 18,
   "id": "e2b852a5-9b69-4784-b33d-b7881744e170",
   "metadata": {},
   "outputs": [
    {
     "name": "stderr",
     "output_type": "stream",
     "text": [
      "Copying images:   0%|                                                                         | 0/8 [00:00<?, ?class/s]"
     ]
    },
    {
     "name": "stdout",
     "output_type": "stream",
     "text": [
      "Copied Apitong P (12).jpg from Apitong\n",
      "Copied Apitong C (26).jpg from Apitong\n",
      "Copied Apitong A (7).jpg from Apitong\n",
      "Copied Apitong G (15).jpg from Apitong\n",
      "Copied Apitong T (5).JPG from Apitong\n",
      "Copied Apitong S (26).jpg from Apitong\n",
      "Copied Apitong H (13).jpg from Apitong\n",
      "Copied Apitong E (1).jpg from Apitong\n",
      "Copied Apitong F (3).jpg from Apitong\n",
      "Copied Apitong G (34).jpg from Apitong\n",
      "Copied Apitong H (6).jpg from Apitong\n",
      "Copied Apitong J (1).JPG from Apitong\n",
      "Copied Apitong B (18).jpg from Apitong\n",
      "Copied Apitong G (33).jpg from Apitong\n",
      "Copied Apitong J4 (29).jpg from Apitong\n",
      "Copied Apitong J4 (6).jpg from Apitong\n",
      "Copied Apitong C (9).jpg from Apitong\n",
      "Copied Apitong C2 (22).jpg from Apitong\n",
      "Copied Apitong S (30).jpg from Apitong\n",
      "Copied Apitong D (7).jpg from Apitong\n",
      "Copied Apitong E4 (8).jpg from Apitong\n",
      "Copied Apitong Q (23).jpg from Apitong\n",
      "Copied Apitong A (3).jpg from Apitong\n",
      "Copied Apitong Q (6).jpg from Apitong\n",
      "Copied Apitong A (14).jpg from Apitong\n",
      "Copied Apitong J4 (19).jpg from Apitong\n",
      "Copied Apitong H (5).jpg from Apitong\n",
      "Copied Apitong F (4).jpg from Apitong\n",
      "Copied Apitong H (10).jpg from Apitong\n",
      "Copied Apitong L (9).jpg from Apitong\n",
      "Copied Apitong G (28).jpg from Apitong\n",
      "Copied Apitong I (21).jpg from Apitong\n",
      "Copied Apitong E4 (29).jpg from Apitong\n",
      "Copied Apitong E4 (13).jpg from Apitong\n",
      "Copied Apitong S (5).jpg from Apitong\n",
      "Copied Apitong C (17).jpg from Apitong\n",
      "Copied Apitong M (6).jpg from Apitong\n",
      "Copied Apitong E4 (26).jpg from Apitong\n",
      "Copied Apitong O (1).JPG from Apitong\n",
      "Copied Apitong T (6).JPG from Apitong\n",
      "Copied Apitong B (5).jpg from Apitong\n",
      "Copied Apitong P (14).jpg from Apitong\n",
      "Copied Apitong S (22).jpg from Apitong\n",
      "Copied Apitong C2 (28).jpg from Apitong\n",
      "Copied Apitong S (18).jpg from Apitong\n",
      "Copied Apitong L (18).jpg from Apitong\n",
      "Copied Apitong G (32).jpg from Apitong\n",
      "Copied Apitong B (8).jpg from Apitong\n",
      "Copied Apitong P (11).jpg from Apitong\n",
      "Copied Apitong E4 (17).jpg from Apitong\n",
      "Copied Apitong E4 (19).jpg from Apitong\n",
      "Copied Apitong G (1).jpg from Apitong\n",
      "Copied Apitong I (23).jpg from Apitong\n",
      "Copied Apitong P (17).jpg from Apitong\n",
      "Copied Apitong B (34).jpg from Apitong\n",
      "Copied Apitong K (33).jpg from Apitong\n",
      "Copied Apitong D (10).jpg from Apitong\n",
      "Copied Apitong R (28).jpg from Apitong\n",
      "Copied Apitong E4 (28).jpg from Apitong\n",
      "Copied Apitong R (9).jpg from Apitong\n",
      "Copied Apitong D (12).jpg from Apitong\n",
      "Copied Apitong P (18).jpg from Apitong\n",
      "Copied Apitong T (30).JPG from Apitong\n",
      "Copied Apitong R (11).jpg from Apitong\n",
      "Copied Apitong J4 (16).jpg from Apitong\n",
      "Copied Apitong E4 (4).jpg from Apitong\n",
      "Copied Apitong J4 (20).jpg from Apitong\n",
      "Copied Apitong O (2).JPG from Apitong\n",
      "Copied Apitong G (17).jpg from Apitong\n",
      "Copied Apitong I (15).jpg from Apitong\n",
      "Copied Apitong L (20).jpg from Apitong\n",
      "Copied Apitong R2 (9).jpg from Apitong\n",
      "Copied Apitong O (5).JPG from Apitong\n",
      "Copied Apitong Q (14).jpg from Apitong\n",
      "Copied Apitong C (1).jpg from Apitong\n",
      "Copied Apitong A (10).jpg from Apitong\n",
      "Copied Apitong C2 (16).jpg from Apitong\n",
      "Copied Apitong G (12).jpg from Apitong\n",
      "Copied Apitong G (21).jpg from Apitong\n",
      "Copied Apitong C2 (20).jpg from Apitong\n",
      "Copied Apitong P (8).jpg from Apitong\n",
      "Copied Apitong C (29).jpg from Apitong\n",
      "Copied Apitong E4 (22).jpg from Apitong\n",
      "Copied Apitong G (7).jpg from Apitong\n",
      "Copied Apitong Q (11).jpg from Apitong\n",
      "Copied Apitong K (15).jpg from Apitong\n",
      "Copied Apitong J4 (14).jpg from Apitong\n",
      "Copied Apitong C (8).jpg from Apitong\n",
      "Copied Apitong K (4).jpg from Apitong\n",
      "Copied Apitong G (19).jpg from Apitong\n",
      "Copied Apitong G (8).jpg from Apitong\n",
      "Copied Apitong B (3).jpg from Apitong\n",
      "Copied Apitong J4 (31).jpg from Apitong\n",
      "Copied Apitong P (2).jpg from Apitong\n"
     ]
    },
    {
     "name": "stderr",
     "output_type": "stream",
     "text": [
      "Copying images:  12%|████████▏                                                        | 1/8 [00:02<00:18,  2.67s/class]"
     ]
    },
    {
     "name": "stdout",
     "output_type": "stream",
     "text": [
      "Copied Apitong A (5).jpg from Apitong\n",
      "Copied Apitong F (12).jpg from Apitong\n",
      "Copied Apitong J (4).JPG from Apitong\n",
      "Copied Apitong D (8).jpg from Apitong\n",
      "Copied Apitong G (3).jpg from Apitong\n",
      "Copied Apitong K (19).jpg from Apitong\n",
      "Copied Balete H (15).jpg from Balete\n",
      "Copied Balete J (29).JPG from Balete\n",
      "Copied Balete Q (7).jpg from Balete\n",
      "Copied Balete I2 (4).jpg from Balete\n",
      "Copied Balete G (10).jpg from Balete\n",
      "Copied Balete H (1).jpg from Balete\n",
      "Copied Balete G (31).jpg from Balete\n",
      "Copied Balete D (29).jpg from Balete\n",
      "Copied Balete S (3).jpg from Balete\n",
      "Copied Balete E (10).jpg from Balete\n",
      "Copied Balete D (35).jpg from Balete\n",
      "Copied Balete E (2).jpg from Balete\n",
      "Copied Balete J (23).JPG from Balete\n",
      "Copied Balete A (37).JPG from Balete\n",
      "Copied Balete L4 (10).jpg from Balete\n",
      "Copied Balete L (14).jpg from Balete\n",
      "Copied Balete L4 (7).jpg from Balete\n",
      "Copied Balete R2 (15).jpg from Balete\n",
      "Copied Balete L (11).jpg from Balete\n",
      "Copied Balete T (7).JPG from Balete\n",
      "Copied Balete K (25).jpg from Balete\n",
      "Copied Balete R2 (13).jpg from Balete\n",
      "Copied Balete S (15).jpg from Balete\n",
      "Copied Balete I (8).jpg from Balete\n",
      "Copied Balete A (35).JPG from Balete\n",
      "Copied Balete K (7).jpg from Balete\n",
      "Copied Balete K (17).jpg from Balete\n",
      "Copied Balete S (20).jpg from Balete\n",
      "Copied Balete C (25).jpg from Balete\n",
      "Copied Balete E4 (13).jpg from Balete\n",
      "Copied Balete P (2).jpg from Balete\n",
      "Copied Balete C2 (3).jpg from Balete\n",
      "Copied Balete L (4).jpg from Balete\n",
      "Copied Balete G (6).jpg from Balete\n",
      "Copied Balete G (21).jpg from Balete\n",
      "Copied Balete K (6).jpg from Balete\n",
      "Copied Balete R2 (19).jpg from Balete\n",
      "Copied Balete L (24).jpg from Balete\n",
      "Copied Balete S (26).jpg from Balete\n",
      "Copied Balete Q (32).jpg from Balete\n",
      "Copied Balete S (10).jpg from Balete\n",
      "Copied Balete J (7).JPG from Balete\n",
      "Copied Balete R2 (22).jpg from Balete\n",
      "Copied Balete R (5).jpg from Balete\n",
      "Copied Balete B (14).jpg from Balete\n",
      "Copied Balete P (9).jpg from Balete\n",
      "Copied Balete R2 (5).jpg from Balete\n",
      "Copied Balete M (7).jpg from Balete\n",
      "Copied Balete D (23).jpg from Balete\n",
      "Copied Balete C (39).jpg from Balete\n",
      "Copied Balete D (13).jpg from Balete\n",
      "Copied Balete J4 (4).jpg from Balete\n",
      "Copied Balete G (27).jpg from Balete\n",
      "Copied Balete C (5).jpg from Balete\n",
      "Copied Balete I2 (1).jpg from Balete\n",
      "Copied Balete A (10).jpg from Balete\n",
      "Copied Balete J4 (16).jpg from Balete\n",
      "Copied Balete A (18).jpg from Balete\n",
      "Copied Balete C (17).jpg from Balete\n",
      "Copied Balete J (1).JPG from Balete\n",
      "Copied Balete D (22).jpg from Balete\n",
      "Copied Balete D (19).jpg from Balete\n",
      "Copied Balete T (12).JPG from Balete\n",
      "Copied Balete C (30).jpg from Balete\n",
      "Copied Balete G (20).jpg from Balete\n",
      "Copied Balete Q (37).jpg from Balete\n",
      "Copied Balete J (13).JPG from Balete\n",
      "Copied Balete I (4).jpg from Balete\n",
      "Copied Balete C2 (27).jpg from Balete\n",
      "Copied Balete D (36).jpg from Balete\n",
      "Copied Balete K (20).jpg from Balete\n",
      "Copied Balete Q (16).jpg from Balete\n",
      "Copied Balete A (11).jpg from Balete\n",
      "Copied Balete L (10).jpg from Balete\n",
      "Copied Balete I (18).jpg from Balete\n",
      "Copied Balete G (32).jpg from Balete\n",
      "Copied Balete G (14).jpg from Balete\n",
      "Copied Balete C2 (18).jpg from Balete\n",
      "Copied Balete C (12).jpg from Balete\n",
      "Copied Balete S (13).jpg from Balete\n",
      "Copied Balete R2 (4).jpg from Balete\n",
      "Copied Balete I2 (8).jpg from Balete\n",
      "Copied Balete A (13).jpg from Balete\n",
      "Copied Balete E (8).jpg from Balete\n",
      "Copied Balete R2 (24).jpg from Balete\n",
      "Copied Balete G (37).jpg from Balete\n",
      "Copied Balete T (8).JPG from Balete\n",
      "Copied Balete C2 (15).jpg from Balete\n",
      "Copied Balete R2 (23).jpg from Balete\n",
      "Copied Balete R (11).jpg from Balete\n",
      "Copied Balete J (26).JPG from Balete\n",
      "Copied Balete H (8).jpg from Balete\n",
      "Copied Balete C2 (19).jpg from Balete\n",
      "Copied Balete J4 (24).jpg from Balete\n",
      "Copied Balete R2 (3).jpg from Balete\n",
      "Copied Balete G (16).jpg from Balete\n",
      "Copied Balete M (3).jpg from Balete\n"
     ]
    },
    {
     "name": "stderr",
     "output_type": "stream",
     "text": [
      "Copying images:  25%|████████████████▎                                                | 2/8 [00:05<00:16,  2.74s/class]"
     ]
    },
    {
     "name": "stdout",
     "output_type": "stream",
     "text": [
      "Copied Balete K (11).jpg from Balete\n",
      "Copied Balete P (13).jpg from Balete\n",
      "Copied Balete R (6).jpg from Balete\n",
      "Copied Bayabas I (13).jpg from Bayabas\n",
      "Copied Bayabas K4 (4).jpg from Bayabas\n",
      "Copied Bayabas C3 (15).jpg from Bayabas\n",
      "Copied Bayabas L (12).jpg from Bayabas\n",
      "Copied Bayabas P (25).jpg from Bayabas\n",
      "Copied Bayabas E (12).jpg from Bayabas\n",
      "Copied Bayabas K (19).jpg from Bayabas\n",
      "Copied Bayabas F (3).jpg from Bayabas\n",
      "Copied Bayabas H (20).jpg from Bayabas\n",
      "Copied Bayabas C3 (16).jpg from Bayabas\n",
      "Copied Bayabas T (14).JPG from Bayabas\n",
      "Copied Bayabas A2 (1).jpg from Bayabas\n",
      "Copied Bayabas M (19).jpg from Bayabas\n",
      "Copied Bayabas S (26).jpg from Bayabas\n",
      "Copied Bayabas B (10).jpg from Bayabas\n",
      "Copied Bayabas G2 (7).heic from Bayabas\n",
      "Copied bayabas H2 (2).jpg from Bayabas\n",
      "Copied Bayabas H (11).jpg from Bayabas\n",
      "Copied Bayabas F (19).jpg from Bayabas\n",
      "Copied Bayabas R (20).jpg from Bayabas\n",
      "Copied Bayabas J (25).jpg from Bayabas\n",
      "Copied Bayabas A (4).jpg from Bayabas\n",
      "Copied Bayabas B (16).jpg from Bayabas\n",
      "Copied Bayabas J (9).jpg from Bayabas\n",
      "Copied Bayabas R (2).jpg from Bayabas\n",
      "Copied Bayabas L (21).jpg from Bayabas\n",
      "Copied Bayabas B (21).jpg from Bayabas\n",
      "Copied Bayabas D4 (1).jpg from Bayabas\n",
      "Copied Bayabas J (7).jpg from Bayabas\n",
      "Copied Bayabas J (17).jpg from Bayabas\n",
      "Copied Bayabas Q (21).jpg from Bayabas\n",
      "Copied Bayabas J (16).jpg from Bayabas\n",
      "Copied Bayabas E (15).jpg from Bayabas\n",
      "Copied Bayabas I (8).jpg from Bayabas\n",
      "Copied Bayabas J (27).jpg from Bayabas\n",
      "Copied Bayabas B (2).jpg from Bayabas\n",
      "Copied Bayabas G2 (5).heic from Bayabas\n",
      "Copied Bayabas S (18).jpg from Bayabas\n",
      "Copied Bayabas Q (7).jpg from Bayabas\n",
      "Copied Bayabas J (21).jpg from Bayabas\n",
      "Copied Bayabas P (17).jpg from Bayabas\n",
      "Copied Bayabas C3 (2).jpg from Bayabas\n",
      "Copied Bayabas O (19).jpg from Bayabas\n",
      "Copied Bayabas B (31).jpg from Bayabas\n",
      "Copied Bayabas C3 (1).jpg from Bayabas\n",
      "Copied Bayabas O (21).jpg from Bayabas\n",
      "Copied Bayabas D (3).jpg from Bayabas\n",
      "Copied Bayabas L (8).jpg from Bayabas\n",
      "Copied Bayabas G2 (14).heic from Bayabas\n",
      "Copied Bayabas F (16).jpg from Bayabas\n",
      "Copied Bayabas M (23).jpg from Bayabas\n",
      "Copied Bayabas M (20).jpg from Bayabas\n",
      "Copied Bayabas I (22).jpg from Bayabas\n",
      "Copied Bayabas D (10).jpg from Bayabas\n",
      "Copied Bayabas G (18).jpg from Bayabas\n",
      "Copied Bayabas G2 (9).heic from Bayabas\n",
      "Copied Bayabas Q (3).jpg from Bayabas\n",
      "Copied Bayabas F3 (9).jpg from Bayabas\n",
      "Copied Bayabas C3 (12).jpg from Bayabas\n",
      "Copied Bayabas K4 (2).jpg from Bayabas\n",
      "Copied Bayabas D (6).jpg from Bayabas\n",
      "Copied Bayabas O (18).jpg from Bayabas\n",
      "Copied Bayabas L (3).jpg from Bayabas\n",
      "Copied Bayabas B (13).jpg from Bayabas\n",
      "Copied Bayabas L (5).jpg from Bayabas\n",
      "Copied Bayabas G (15).jpg from Bayabas\n",
      "Copied Bayabas L4 (6).jpg from Bayabas\n",
      "Copied Bayabas Q (11).jpg from Bayabas\n",
      "Copied Bayabas O (14).jpg from Bayabas\n",
      "Copied Bayabas P (23).jpg from Bayabas\n",
      "Copied Bayabas A2 (8).jpg from Bayabas\n",
      "Copied Bayabas M (4).jpg from Bayabas\n",
      "Copied Bayabas L (15).jpg from Bayabas\n",
      "Copied Bayabas Q (23).jpg from Bayabas\n",
      "Copied Bayabas I (18).jpg from Bayabas\n",
      "Copied Bayabas L (23).jpg from Bayabas\n",
      "Copied Bayabas C (17).jpg from Bayabas\n",
      "Copied Bayabas E4 (1).jpg from Bayabas\n",
      "Copied Bayabas H (6).jpg from Bayabas\n",
      "Copied Bayabas T (16).JPG from Bayabas\n",
      "Copied Bayabas S (21).jpg from Bayabas\n",
      "Copied Bayabas M (22).jpg from Bayabas\n",
      "Copied Bayabas O (16).jpg from Bayabas\n",
      "Copied Bayabas C3 (11).jpg from Bayabas\n",
      "Copied Bayabas T (7).JPG from Bayabas\n",
      "Copied Bayabas P (5).jpg from Bayabas\n",
      "Copied Bayabas F (17).jpg from Bayabas\n",
      "Copied Bayabas P (3).jpg from Bayabas\n",
      "Copied Bayabas F3 (8).jpg from Bayabas\n",
      "Copied Bayabas F (21).jpg from Bayabas\n",
      "Copied Bayabas C (32).jpg from Bayabas\n",
      "Copied Bayabas P3 (12).jpg from Bayabas\n",
      "Copied Bayabas H (14).jpg from Bayabas\n",
      "Copied Bayabas E4 (9).jpg from Bayabas\n",
      "Copied Bayabas D4 (5).jpg from Bayabas\n",
      "Copied Bayabas K4 (3).jpg from Bayabas\n",
      "Copied Bayabas P (9).jpg from Bayabas\n"
     ]
    },
    {
     "name": "stderr",
     "output_type": "stream",
     "text": [
      "Copying images:  38%|████████████████████████▍                                        | 3/8 [00:08<00:14,  2.98s/class]"
     ]
    },
    {
     "name": "stdout",
     "output_type": "stream",
     "text": [
      "Copied Bayabas C (31).jpg from Bayabas\n",
      "Copied Bayabas I (6).jpg from Bayabas\n",
      "Copied Bayabas C (19).jpg from Bayabas\n",
      "Copied Kamagong S (26).jpg from Kamagong\n",
      "Copied Kamagong L (7).jpg from Kamagong\n",
      "Copied Kamagong C (38).jpg from Kamagong\n",
      "Copied Kamagong O (15).jpg from Kamagong\n",
      "Copied Kamagong P (15).jpg from Kamagong\n",
      "Copied Kamagong P (18).jpg from Kamagong\n",
      "Copied Kamagong L (16).jpg from Kamagong\n",
      "Copied Kamagong T (5).JPG from Kamagong\n",
      "Copied Kamagong E (21).jpg from Kamagong\n",
      "Copied Kamagong E (25).jpg from Kamagong\n",
      "Copied Kamagong I (11).jpg from Kamagong\n",
      "Copied Kamagong B (33).jpg from Kamagong\n",
      "Copied Kamagong T (12).JPG from Kamagong\n",
      "Copied Kamagong S (17).jpg from Kamagong\n",
      "Copied Kamagong D (1).jpg from Kamagong\n",
      "Copied Kamagong G (15).jpg from Kamagong\n",
      "Copied Kamagong I (6).jpg from Kamagong\n",
      "Copied Kamagong K (6).jpg from Kamagong\n",
      "Copied Kamagong S (22).jpg from Kamagong\n",
      "Copied Kamagong P (4).jpg from Kamagong\n",
      "Copied Kamagong R (2).jpg from Kamagong\n",
      "Copied Kamagong T (3).JPG from Kamagong\n",
      "Copied Kamagong K (10).jpg from Kamagong\n",
      "Copied Kamagong P3 (8).jpg from Kamagong\n",
      "Copied Kamagong I (3).jpg from Kamagong\n",
      "Copied Kamagong Q (10).jpg from Kamagong\n",
      "Copied Kamagong Q (11).jpg from Kamagong\n",
      "Copied Kamagong A (5).jpg from Kamagong\n",
      "Copied Kamagong L (23).jpg from Kamagong\n",
      "Copied Kamagong M (10).jpg from Kamagong\n",
      "Copied Kamagong O (10).jpg from Kamagong\n",
      "Copied Kamagong T (1).JPG from Kamagong\n",
      "Copied Kamagong C (21).jpg from Kamagong\n",
      "Copied Kamagong L (8).jpg from Kamagong\n",
      "Copied Kamagong J (21).jpg from Kamagong\n",
      "Copied Kamagong G2 (1).heic from Kamagong\n",
      "Copied Kamagong J (5).jpg from Kamagong\n",
      "Copied Kamagong O (46).jpg from Kamagong\n",
      "Copied Kamagong R (1).jpg from Kamagong\n",
      "Copied Kamagong C (26).jpg from Kamagong\n",
      "Copied Kamagong Q (14).jpg from Kamagong\n",
      "Copied Kamagong G (19).jpg from Kamagong\n",
      "Copied Kamagong F (9).jpg from Kamagong\n",
      "Copied Kamagong E (11).jpg from Kamagong\n",
      "Copied Kamagong Q (25).jpg from Kamagong\n",
      "Copied Kamagong L (18).jpg from Kamagong\n",
      "Copied Kamagong A (19).jpg from Kamagong\n",
      "Copied Kamagong F3 (2).jpg from Kamagong\n",
      "Copied Kamagong G (25).jpg from Kamagong\n",
      "Copied Kamagong Q (1).jpg from Kamagong\n",
      "Copied Kamagong D (14).jpg from Kamagong\n",
      "Copied Kamagong R (9).jpg from Kamagong\n",
      "Copied Kamagong Q (24).jpg from Kamagong\n",
      "Copied Kamagong Q (17).jpg from Kamagong\n",
      "Copied Kamagong A (15).jpg from Kamagong\n",
      "Copied Kamagong L (11).jpg from Kamagong\n",
      "Copied Kamagong P3 (3).jpg from Kamagong\n",
      "Copied Kamagong B (8).jpg from Kamagong\n",
      "Copied Kamagong M (4).jpg from Kamagong\n",
      "Copied Kamagong B (30).jpg from Kamagong\n",
      "Copied Kamagong S (10).jpg from Kamagong\n",
      "Copied Kamagong J (23).jpg from Kamagong\n",
      "Copied Kamagong G (11).jpg from Kamagong\n",
      "Copied Kamagong M (20).jpg from Kamagong\n",
      "Copied Kamagong A (11).jpg from Kamagong\n",
      "Copied Kamagong O (26).jpg from Kamagong\n",
      "Copied Kamagong I (19).jpg from Kamagong\n",
      "Copied Kamagong J (4).jpg from Kamagong\n",
      "Copied Kamagong J (31).jpg from Kamagong\n",
      "Copied Kamagong S (21).jpg from Kamagong\n",
      "Copied Kamagong O (41).jpg from Kamagong\n",
      "Copied Kamagong O (24).jpg from Kamagong\n",
      "Copied Kamagong K (9).jpg from Kamagong\n",
      "Copied Kamagong D (12).jpg from Kamagong\n",
      "Copied Kamagong K4 (6).jpg from Kamagong\n",
      "Copied Kamagong O (48).jpg from Kamagong\n",
      "Copied Kamagong T (16).JPG from Kamagong\n",
      "Copied Kamagong C (27).jpg from Kamagong\n",
      "Copied Kamagong I (18).jpg from Kamagong\n",
      "Copied Kamagong P3 (7).jpg from Kamagong\n",
      "Copied Kamagong O (23).jpg from Kamagong\n",
      "Copied Kamagong J (28).jpg from Kamagong\n",
      "Copied Kamagong Q (18).jpg from Kamagong\n",
      "Copied Kamagong Q (32).jpg from Kamagong\n",
      "Copied Kamagong M (17).jpg from Kamagong\n",
      "Copied Kamagong P (7).jpg from Kamagong\n",
      "Copied Kamagong Q (7).jpg from Kamagong\n",
      "Copied Kamagong F (10).jpg from Kamagong\n",
      "Copied Kamagong Q (34).jpg from Kamagong\n",
      "Copied Kamagong F (24).jpg from Kamagong\n",
      "Copied Kamagong O (45).jpg from Kamagong\n",
      "Copied Kamagong D (28).jpg from Kamagong\n",
      "Copied Kamagong A (3).jpg from Kamagong\n"
     ]
    },
    {
     "name": "stderr",
     "output_type": "stream",
     "text": [
      "Copying images:  50%|████████████████████████████████▌                                | 4/8 [00:17<00:21,  5.32s/class]"
     ]
    },
    {
     "name": "stdout",
     "output_type": "stream",
     "text": [
      "Copied Kamagong J (29).jpg from Kamagong\n",
      "Copied Kamagong H (22).jpg from Kamagong\n",
      "Copied Kamagong O (28).jpg from Kamagong\n",
      "Copied Kamagong T (17).JPG from Kamagong\n",
      "Copied Kamagong O (37).jpg from Kamagong\n",
      "Copied Kamagong O (38).jpg from Kamagong\n",
      "Copied Kamagong J (16).jpg from Kamagong\n",
      "Copied Langka M (3).jpg from Langka\n",
      "Copied Langka B (17).jpg from Langka\n",
      "Copied Langka F3 (6).jpg from Langka\n",
      "Copied Langka O (25).JPG from Langka\n",
      "Copied Langka R4 (4).jpg from Langka\n",
      "Copied Langka K (5).jpg from Langka\n",
      "Copied Langka A (16).jpg from Langka\n",
      "Copied Langka I (6).jpg from Langka\n",
      "Copied Langka S (11).jpg from Langka\n",
      "Copied Langka O (22).JPG from Langka\n",
      "Copied Langka J (10).jpg from Langka\n",
      "Copied Langka P (23).jpg from Langka\n",
      "Copied Langka K (8).jpg from Langka\n",
      "Copied Langka P (5).jpg from Langka\n",
      "Copied Langka J (16).jpg from Langka\n",
      "Copied Langka A (18).jpg from Langka\n",
      "Copied Langka F (9).jpg from Langka\n",
      "Copied Langka G (23).jpg from Langka\n",
      "Copied Langka K (9).jpg from Langka\n",
      "Copied Langka C3 (18).jpg from Langka\n",
      "Copied Langka Q (24).jpg from Langka\n",
      "Copied Langka G2 (18).heic from Langka\n",
      "Copied Langka S (27).jpg from Langka\n",
      "Copied Langka O (21).JPG from Langka\n",
      "Copied Langka O (44).JPG from Langka\n",
      "Copied Langka E (10).jpg from Langka\n",
      "Copied Langka T (20).JPG from Langka\n",
      "Copied Langka Q (22).jpg from Langka\n",
      "Copied Langka S (19).jpg from Langka\n",
      "Copied Langka R (25).jpg from Langka\n",
      "Copied Langka S (30).jpg from Langka\n",
      "Copied Langka I (1).jpg from Langka\n",
      "Copied Langka S (2).jpg from Langka\n",
      "Copied Langka R4 (7).jpg from Langka\n",
      "Copied Langka L (12).jpg from Langka\n",
      "Copied Langka E (2).jpg from Langka\n",
      "Copied Langka R (14).jpg from Langka\n",
      "Copied Langka E (18).jpg from Langka\n",
      "Copied Langka C (17).jpg from Langka\n",
      "Copied Langka G2 (3).heic from Langka\n",
      "Copied Langka E (13).jpg from Langka\n",
      "Copied Langka C3 (26).jpg from Langka\n",
      "Copied Langka O (41).jpg from Langka\n",
      "Copied Langka C3 (19).jpg from Langka\n",
      "Copied Langka I3 (2).jpg from Langka\n",
      "Copied Langka K (21).jpg from Langka\n",
      "Copied Langka E (14).jpg from Langka\n",
      "Copied Langka J (28).jpg from Langka\n",
      "Copied Langka S (24).jpg from Langka\n",
      "Copied Langka T (1).JPG from Langka\n",
      "Copied Langka I (27).jpg from Langka\n",
      "Copied Langka H (3).jpg from Langka\n",
      "Copied Langka K (18).jpg from Langka\n",
      "Copied Langka K (13).jpg from Langka\n",
      "Copied Langka J (14).jpg from Langka\n",
      "Copied Langka A (17).jpg from Langka\n",
      "Copied Langka R (17).jpg from Langka\n",
      "Copied Langka O (3).JPG from Langka\n",
      "Copied Langka K (16).jpg from Langka\n",
      "Copied Langka R (29).jpg from Langka\n",
      "Copied Langka L4 (3).jpg from Langka\n",
      "Copied Langka J (2).jpg from Langka\n",
      "Copied Langka H (1).jpg from Langka\n",
      "Copied Langka M (2).jpg from Langka\n",
      "Copied Langka P3 (7).jpg from Langka\n",
      "Copied Langka M (13).jpg from Langka\n",
      "Copied Langka G (21).jpg from Langka\n",
      "Copied Langka D (6).jpg from Langka\n",
      "Copied Langka O (43).JPG from Langka\n",
      "Copied Langka B (24).jpg from Langka\n",
      "Copied Langka O (13).JPG from Langka\n",
      "Copied Langka L (7).jpg from Langka\n",
      "Copied Langka B (22).jpg from Langka\n",
      "Copied Langka S (8).jpg from Langka\n",
      "Copied Langka I (34).jpg from Langka\n",
      "Copied Langka H3 (2).jpg from Langka\n",
      "Copied Langka P (9).jpg from Langka\n",
      "Copied Langka J (3).jpg from Langka\n",
      "Copied Langka O (24).JPG from Langka\n",
      "Copied Langka A (20).jpg from Langka\n",
      "Copied Langka I (8).jpg from Langka\n",
      "Copied Langka F (2).jpg from Langka\n",
      "Copied Langka S (10).jpg from Langka\n",
      "Copied Langka R (2).jpg from Langka\n",
      "Copied Langka C3 (15).jpg from Langka\n",
      "Copied Langka L (5).jpg from Langka\n",
      "Copied Langka I (14).jpg from Langka\n",
      "Copied Langka H (13).jpg from Langka\n",
      "Copied Langka O (2).JPG from Langka\n",
      "Copied Langka B (20).jpg from Langka\n",
      "Copied Langka K (25).jpg from Langka\n",
      "Copied Langka R (31).jpg from Langka\n",
      "Copied Langka O (34).JPG from Langka\n",
      "Copied Langka M (12).jpg from Langka\n",
      "Copied Langka B (8).jpg from Langka\n",
      "Copied Langka S (4).jpg from Langka\n",
      "Copied Langka Q (20).jpg from Langka\n",
      "Copied Langka R4 (8).jpg from Langka\n"
     ]
    },
    {
     "name": "stderr",
     "output_type": "stream",
     "text": [
      "Copying images:  62%|████████████████████████████████████████▋                        | 5/8 [00:23<00:16,  5.65s/class]"
     ]
    },
    {
     "name": "stdout",
     "output_type": "stream",
     "text": [
      "Copied Langka O (14).JPG from Langka\n",
      "Copied Langka C3 (7).jpg from Langka\n",
      "Copied Mahogany M (19).jpg from Mahogany\n",
      "Copied Mahogany J4 (29).jpg from Mahogany\n",
      "Copied Mahogany T (23).JPG from Mahogany\n",
      "Copied Mahogany G (1).jpg from Mahogany\n",
      "Copied Mahogany B (6).jpg from Mahogany\n",
      "Copied Mahogany J4 (11).jpg from Mahogany\n",
      "Copied Mahogany C (56).jpg from Mahogany\n",
      "Copied Mahogany G (17).jpg from Mahogany\n",
      "Copied Mahogany B (12).jpg from Mahogany\n",
      "Copied Mahogany O (2).JPG from Mahogany\n",
      "Copied Mahogany P3 (13).jpg from Mahogany\n",
      "Copied Mahogany K (19).jpg from Mahogany\n",
      "Copied Mahogany C (20).jpg from Mahogany\n",
      "Copied Mahogany S (18).jpg from Mahogany\n",
      "Copied Mahogany M (15).jpg from Mahogany\n",
      "Copied Mahogany K (50).jpg from Mahogany\n",
      "Copied Mahogany I (2).jpg from Mahogany\n",
      "Copied Mahogany H (19).jpg from Mahogany\n",
      "Copied Mahogany D (20).jpg from Mahogany\n",
      "Copied Mahogany T (14).JPG from Mahogany\n",
      "Copied Mahogany M (10).jpg from Mahogany\n",
      "Copied Mahogany I (33).jpg from Mahogany\n",
      "Copied Mahogany I (12).jpg from Mahogany\n",
      "Copied Mahogany L (9).jpg from Mahogany\n",
      "Copied Mahogany L4 (7).jpg from Mahogany\n",
      "Copied Mahogany I (24).jpg from Mahogany\n",
      "Copied Mahogany O (30).JPG from Mahogany\n",
      "Copied Mahogany E (6).jpg from Mahogany\n",
      "Copied Mahogany A (18).jpg from Mahogany\n",
      "Copied Mahogany D (14).jpg from Mahogany\n",
      "Copied Mahogany M (16).jpg from Mahogany\n",
      "Copied Mahogany F (13).jpg from Mahogany\n",
      "Copied Mahogany G (23).jpg from Mahogany\n",
      "Copied Mahogany R (21).jpg from Mahogany\n",
      "Copied Mahogany C (48).jpg from Mahogany\n",
      "Copied Mahogany P (15).jpg from Mahogany\n",
      "Copied Mahogany C (1).jpg from Mahogany\n",
      "Copied Mahogany K (21).jpg from Mahogany\n",
      "Copied Mahogany I (3).jpg from Mahogany\n",
      "Copied Mahogany B (3).jpg from Mahogany\n",
      "Copied Mahogany F (10).jpg from Mahogany\n",
      "Copied Mahogany D (5).jpg from Mahogany\n",
      "Copied Mahogany S (22).jpg from Mahogany\n",
      "Copied Mahogany K (43).jpg from Mahogany\n",
      "Copied Mahogany J4 (26).jpg from Mahogany\n",
      "Copied Mahogany T (12).JPG from Mahogany\n",
      "Copied Mahogany O (8).JPG from Mahogany\n",
      "Copied Mahogany M (1).jpg from Mahogany\n",
      "Copied Mahogany J (27).jpg from Mahogany\n",
      "Copied Mahogany G2 (11).heic from Mahogany\n",
      "Copied Mahogany P3 (15).jpg from Mahogany\n",
      "Copied Mahogany B (27).jpg from Mahogany\n",
      "Copied Mahogany B (33).jpg from Mahogany\n",
      "Copied Mahogany A2 (9).jpg from Mahogany\n",
      "Copied Mahogany G2 (15).heic from Mahogany\n",
      "Copied Mahogany C (31).jpg from Mahogany\n",
      "Copied Mahogany O (16).jpg from Mahogany\n",
      "Copied Mahogany J4 (31).jpg from Mahogany\n",
      "Copied Mahogany J4 (6).jpg from Mahogany\n",
      "Copied Mahogany P3 (26).jpg from Mahogany\n",
      "Copied Mahogany P (3).jpg from Mahogany\n",
      "Copied Mahogany T (16).JPG from Mahogany\n",
      "Copied Mahogany J4 (18).jpg from Mahogany\n",
      "Copied Mahogany C (27).jpg from Mahogany\n",
      "Copied Mahogany P3 (11).jpg from Mahogany\n",
      "Copied Mahogany K (26).jpg from Mahogany\n",
      "Copied Mahogany K (30).jpg from Mahogany\n",
      "Copied Mahogany B (8).jpg from Mahogany\n",
      "Copied Mahogany F (18).jpg from Mahogany\n",
      "Copied Mahogany K (46).jpg from Mahogany\n",
      "Copied Mahogany R (9).jpg from Mahogany\n",
      "Copied Mahogany C (8).jpg from Mahogany\n",
      "Copied Mahogany C (23).jpg from Mahogany\n",
      "Copied Mahogany M (3).jpg from Mahogany\n",
      "Copied Mahogany T (24).JPG from Mahogany\n",
      "Copied Mahogany C (34).jpg from Mahogany\n",
      "Copied Mahogany C (52).jpg from Mahogany\n",
      "Copied Mahogany M (11).jpg from Mahogany\n",
      "Copied Mahogany K (22).jpg from Mahogany\n",
      "Copied Mahogany S (16).jpg from Mahogany\n",
      "Copied Mahogany P (20).jpg from Mahogany\n",
      "Copied Mahogany G2 (12).heic from Mahogany\n",
      "Copied Mahogany Q (10).jpg from Mahogany\n",
      "Copied Mahogany O (28).JPG from Mahogany\n",
      "Copied Mahogany G (24).jpg from Mahogany\n",
      "Copied Mahogany P (23).jpg from Mahogany\n",
      "Copied Mahogany C (53).jpg from Mahogany\n",
      "Copied Mahogany Q (9).jpg from Mahogany\n",
      "Copied Mahogany C (38).jpg from Mahogany\n",
      "Copied Mahogany E (22).jpg from Mahogany\n",
      "Copied Mahogany Q (22).jpg from Mahogany\n",
      "Copied Mahogany F (14).jpg from Mahogany\n",
      "Copied Mahogany B (4).jpg from Mahogany\n",
      "Copied Mahogany T (31).JPG from Mahogany\n",
      "Copied Mahogany D (11).jpg from Mahogany\n"
     ]
    },
    {
     "name": "stderr",
     "output_type": "stream",
     "text": [
      "Copying images:  75%|████████████████████████████████████████████████▊                | 6/8 [00:29<00:11,  5.65s/class]"
     ]
    },
    {
     "name": "stdout",
     "output_type": "stream",
     "text": [
      "Copied Mahogany C (35).jpg from Mahogany\n",
      "Copied Mahogany T (10).JPG from Mahogany\n",
      "Copied Mahogany T (7).JPG from Mahogany\n",
      "Copied Mahogany J4 (28).jpg from Mahogany\n",
      "Copied Mahogany D (1).jpg from Mahogany\n",
      "Copied Mangga O (8).JPG from Mangga\n",
      "Copied Mangga S (8).jpg from Mangga\n",
      "Copied Mangga R4 (1).jpg from Mangga\n",
      "Copied Mangga B Discard (5).jpg from Mangga\n",
      "Copied Mangga R (7).jpg from Mangga\n",
      "Copied Mangga L (19).jpg from Mangga\n",
      "Copied Mangga C Discard (9).jpg from Mangga\n",
      "Copied Mangga C Discard (11).jpg from Mangga\n",
      "Copied Mangga H Back (4).jpg from Mangga\n",
      "Copied Mangga B Discard (3).jpg from Mangga\n",
      "Copied Mangga F Front (6).jpg from Mangga\n",
      "Copied Mangga K (21).jpg from Mangga\n",
      "Copied Mangga O (35).JPG from Mangga\n",
      "Copied Mangga R (16).jpg from Mangga\n",
      "Copied Mangga H Tilt (3).jpg from Mangga\n",
      "Copied Mangga P (37).jpg from Mangga\n",
      "Copied Mangga Q (27).jpg from Mangga\n",
      "Copied Mangga D Back (7).jpg from Mangga\n",
      "Copied Mangga D Back (6).jpg from Mangga\n",
      "Copied Mangga R (3).jpg from Mangga\n",
      "Copied Mangga R (8).jpg from Mangga\n",
      "Copied Mangga P4 (14).jpg from Mangga\n",
      "Copied Mangga P (33).jpg from Mangga\n",
      "Copied Mangga E Tilt (7).jpg from Mangga\n",
      "Copied Mangga P (3).jpg from Mangga\n",
      "Copied Mangga S (13).jpg from Mangga\n",
      "Copied Mangga E Front (11).jpg from Mangga\n",
      "Copied Mangga Q (24).jpg from Mangga\n",
      "Copied Mangga R (5).jpg from Mangga\n",
      "Copied Mangga K (18).jpg from Mangga\n",
      "Copied Mangga E Tilt (1).jpg from Mangga\n",
      "Copied Mangga L4 (2).jpg from Mangga\n",
      "Copied Mangga H Back (8).jpg from Mangga\n",
      "Copied Mangga L4 (1).jpg from Mangga\n",
      "Copied Mangga Q (5).jpg from Mangga\n",
      "Copied Mangga R (23).jpg from Mangga\n",
      "Copied Mangga P (42).jpg from Mangga\n",
      "Copied Mangga S (25).jpg from Mangga\n",
      "Copied Mangga L (10).jpg from Mangga\n",
      "Copied Mangga C3 (22).jpg from Mangga\n",
      "Copied Mangga S (24).jpg from Mangga\n",
      "Copied Mangga R (26).jpg from Mangga\n",
      "Copied Mangga E Discard (4).jpg from Mangga\n",
      "Copied Mangga E Front (3).jpg from Mangga\n",
      "Copied Mangga O (5).JPG from Mangga\n",
      "Copied Mangga O (47).JPG from Mangga\n",
      "Copied Mangga B Tilt (2).jpg from Mangga\n",
      "Copied Mangga C Front (5).jpg from Mangga\n",
      "Copied Mangga F Back (4).jpg from Mangga\n",
      "Copied Mangga C3 (20).jpg from Mangga\n",
      "Copied Mangga K (15).jpg from Mangga\n",
      "Copied Mangga P4 (18).jpg from Mangga\n",
      "Copied Mangga R4 (13).jpg from Mangga\n",
      "Copied Mangga (23).jpg from Mangga\n",
      "Copied Mangga D4 (8).jpg from Mangga\n",
      "Copied Mangga O (18).JPG from Mangga\n",
      "Copied Mangga R4 (2).jpg from Mangga\n",
      "Copied Mangga I Front (12).jpg from Mangga\n",
      "Copied Mangga F Tilt (8).jpg from Mangga\n",
      "Copied Mangga L (4).jpg from Mangga\n",
      "Copied Mangga M (7).jpg from Mangga\n",
      "Copied Mangga C Tilt (1).jpg from Mangga\n",
      "Copied Mangga L4 (7).jpg from Mangga\n",
      "Copied Mangga O (29).JPG from Mangga\n",
      "Copied Mangga G Back (2).heic from Mangga\n",
      "Copied Mangga C3 (10).jpg from Mangga\n",
      "Copied Mangga D Back (3).jpg from Mangga\n",
      "Copied Mangga E Front (2).jpg from Mangga\n",
      "Copied Mangga R (36).jpg from Mangga\n",
      "Copied Mangga E Back (3).jpg from Mangga\n",
      "Copied Mangga Q (2).jpg from Mangga\n",
      "Copied Mangga E Front (8).jpg from Mangga\n",
      "Copied Mangga F Tilt (6).jpg from Mangga\n",
      "Copied Mangga L (26).jpg from Mangga\n",
      "Copied Mangga P (18).jpg from Mangga\n",
      "Copied Mangga K (19).jpg from Mangga\n",
      "Copied Mangga C3 (14).jpg from Mangga\n",
      "Copied Mangga R (6).jpg from Mangga\n",
      "Copied Mangga L4 (4).jpg from Mangga\n",
      "Copied Mangga K (10).jpg from Mangga\n",
      "Copied Mangga O (32).JPG from Mangga\n",
      "Copied Mangga C3 (18).jpg from Mangga\n",
      "Copied Mangga (24).jpg from Mangga\n",
      "Copied Mangga H Front (8).jpg from Mangga\n",
      "Copied Mangga K (23).jpg from Mangga\n",
      "Copied Mangga L (3).jpg from Mangga\n",
      "Copied Mangga F Tilt (4).jpg from Mangga\n",
      "Copied Mangga G Front (5).heic from Mangga\n",
      "Copied Mangga M (17).jpg from Mangga\n",
      "Copied Mangga R (18).jpg from Mangga\n",
      "Copied Mangga C3 (12).jpg from Mangga\n",
      "Copied Mangga F Front (8).jpg from Mangga\n",
      "Copied Mangga H Front (2).jpg from Mangga\n",
      "Copied Mangga L4 (6).jpg from Mangga\n",
      "Copied Mangga P (31).jpg from Mangga\n",
      "Copied Mangga E Tilt (4).jpg from Mangga\n",
      "Copied Mangga C3 (8).jpg from Mangga\n",
      "Copied Mangga (29).jpg from Mangga\n",
      "Copied Mangga P4 (17).jpg from Mangga\n"
     ]
    },
    {
     "name": "stderr",
     "output_type": "stream",
     "text": [
      "Copying images:  88%|████████████████████████████████████████████████████████▉        | 7/8 [00:37<00:06,  6.28s/class]"
     ]
    },
    {
     "name": "stdout",
     "output_type": "stream",
     "text": [
      "Copied Mangga D Discard (4).jpg from Mangga\n",
      "Copied Palo_Maria M (1).jpg from Palo Maria\n",
      "Copied Palo_Maria R4 (2).jpg from Palo Maria\n",
      "Copied Palo_Maria O (22).JPG from Palo Maria\n",
      "Copied Palo_Maria K (11).jpg from Palo Maria\n",
      "Copied Palo_Maria O (8).jpg from Palo Maria\n",
      "Copied Palo_Maria P (1).jpg from Palo Maria\n",
      "Copied Palo_Maria P4 (5).jpg from Palo Maria\n",
      "Copied Palo_Maria S (22).jpg from Palo Maria\n",
      "Copied Palo_Maria A (22).jpg from Palo Maria\n",
      "Copied Palo_Maria L (2).jpg from Palo Maria\n",
      "Copied Palo_Maria L (23).jpg from Palo Maria\n",
      "Copied Palo_Maria F (4).jpg from Palo Maria\n",
      "Copied Palo_Maria R (23).jpg from Palo Maria\n",
      "Copied Palo_Maria O (30).JPG from Palo Maria\n",
      "Copied Palo_Maria A (29).jpg from Palo Maria\n",
      "Copied Palo_Maria M (8).jpg from Palo Maria\n",
      "Copied Palo_Maria T (26).JPG from Palo Maria\n",
      "Copied Palo_Maria K (7).jpg from Palo Maria\n",
      "Copied Palo_Maria K (6).jpg from Palo Maria\n",
      "Copied Palo_maria E (14).jpg from Palo Maria\n",
      "Copied Palo_Maria H (18).jpg from Palo Maria\n",
      "Copied Palo_Maria R (31).jpg from Palo Maria\n",
      "Copied Palo_Maria D (3).jpg from Palo Maria\n",
      "Copied Palo_Maria P (26).jpg from Palo Maria\n",
      "Copied Palo_Maria O (27).JPG from Palo Maria\n",
      "Copied Palo_Maria M (2).jpg from Palo Maria\n",
      "Copied Palo_Maria P (10).jpg from Palo Maria\n",
      "Copied Palo_Maria F (8).jpg from Palo Maria\n",
      "Copied Palo_Maria F3 (7).jpg from Palo Maria\n",
      "Copied Palo_Maria S (18).jpg from Palo Maria\n",
      "Copied Palo-Maria B (20).jpg from Palo Maria\n",
      "Copied Palo_Maria H (20).jpg from Palo Maria\n",
      "Copied Palo_Maria R (10).jpg from Palo Maria\n",
      "Copied Palo_Maria Q4 (3).jpg from Palo Maria\n",
      "Copied Palo_Maria D (15).jpg from Palo Maria\n",
      "Copied Palo_Maria R (3).jpg from Palo Maria\n",
      "Copied Palo_Maria P (18).jpg from Palo Maria\n",
      "Copied Palo_Maria P (25).jpg from Palo Maria\n",
      "Copied Palo_maria E (11).jpg from Palo Maria\n",
      "Copied Palo_Maria D (2).jpg from Palo Maria\n",
      "Copied Palo_Maria K (25).jpg from Palo Maria\n",
      "Copied Palo_Maria P4 (2).jpg from Palo Maria\n",
      "Copied Palo_Maria R (13).jpg from Palo Maria\n",
      "Copied Palo_Maria K4 (1).jpg from Palo Maria\n",
      "Copied Palo_Maria R (41).jpg from Palo Maria\n",
      "Copied Palo_Maria Q4 (5).jpg from Palo Maria\n",
      "Copied Palo_Maria D (4).jpg from Palo Maria\n",
      "Copied Palo_Maria B4 (5).jpg from Palo Maria\n",
      "Copied Palo_Maria D (22).jpg from Palo Maria\n",
      "Copied Palo_Maria A (16).jpg from Palo Maria\n",
      "Copied Palo_Maria K4 (4).jpg from Palo Maria\n",
      "Copied Palo_Maria A (6).jpg from Palo Maria\n",
      "Copied Palo_Maria L (28).jpg from Palo Maria\n",
      "Copied Palo_Maria S (27).jpg from Palo Maria\n",
      "Copied Palo_Maria D (25).jpg from Palo Maria\n",
      "Copied Palo_Maria O (4).JPG from Palo Maria\n",
      "Copied Palo_Maria R (20).jpg from Palo Maria\n",
      "Copied Palo_Maria L (3).jpg from Palo Maria\n",
      "Copied Palo_Maria Q (10).jpg from Palo Maria\n",
      "Copied Palo_Maria Q (7).jpg from Palo Maria\n",
      "Copied Palo_Maria A (24).jpg from Palo Maria\n",
      "Copied Palo_Maria R4 (11).jpg from Palo Maria\n",
      "Copied Palo_Maria D (10).jpg from Palo Maria\n",
      "Copied Palo_Maria G (4).heic from Palo Maria\n",
      "Copied Palo_Maria P (27).jpg from Palo Maria\n",
      "Copied Palo_maria E (1).jpg from Palo Maria\n",
      "Copied Palo_Maria G (26).heic from Palo Maria\n",
      "Copied Palo_Maria P4 (4).jpg from Palo Maria\n",
      "Copied Palo_Maria K (10).jpg from Palo Maria\n",
      "Copied Palo_Maria L (6).jpg from Palo Maria\n",
      "Copied Palo_Maria S (17).jpg from Palo Maria\n",
      "Copied Palo_Maria F3 (9).jpg from Palo Maria\n",
      "Copied Palo_Maria O (21).JPG from Palo Maria\n",
      "Copied Palo_maria E (19).jpg from Palo Maria\n",
      "Copied Palo_Maria P (38).jpg from Palo Maria\n",
      "Copied Palo_Maria S (23).jpg from Palo Maria\n",
      "Copied Palo_Maria T (18).JPG from Palo Maria\n",
      "Copied Palo_Maria G (24).heic from Palo Maria\n",
      "Copied Palo_maria E (33).jpg from Palo Maria\n",
      "Copied Palo_Maria G (16).heic from Palo Maria\n",
      "Copied Palo_Maria R4 (5).jpg from Palo Maria\n",
      "Copied Palo_Maria G (1).heic from Palo Maria\n",
      "Copied Palo_Maria K (3).jpg from Palo Maria\n",
      "Copied Palo_Maria Q (32).jpg from Palo Maria\n",
      "Copied Palo_Maria D (23).jpg from Palo Maria\n",
      "Copied Palo_Maria M (15).jpg from Palo Maria\n",
      "Copied Palo_Maria R (38).jpg from Palo Maria\n",
      "Copied Palo_Maria Q (31).jpg from Palo Maria\n",
      "Copied Palo_Maria O (3).JPG from Palo Maria\n",
      "Copied Palo_Maria L (9).jpg from Palo Maria\n",
      "Copied Palo_Maria B4 (3).jpg from Palo Maria\n",
      "Copied Palo_Maria G (9).heic from Palo Maria\n",
      "Copied Palo_Maria H (11).jpg from Palo Maria\n",
      "Copied Palo_Maria G2 (3).heic from Palo Maria\n",
      "Copied Palo_Maria S (15).jpg from Palo Maria\n",
      "Copied Palo_Maria P (21).jpg from Palo Maria\n",
      "Copied Palo_Maria F (1).jpg from Palo Maria\n",
      "Copied Palo_Maria A (23).jpg from Palo Maria\n",
      "Copied Palo_Maria G (13).heic from Palo Maria\n"
     ]
    },
    {
     "name": "stderr",
     "output_type": "stream",
     "text": [
      "Copying images: 100%|█████████████████████████████████████████████████████████████████| 8/8 [00:41<00:00,  5.19s/class]"
     ]
    },
    {
     "name": "stdout",
     "output_type": "stream",
     "text": [
      "Copied Palo_maria E (4).jpg from Palo Maria\n",
      "Selected 100 images from each leaf class directory under D:\\SnapfoliaV2\\DS_COMPILED and copied them to DS_100\n"
     ]
    },
    {
     "name": "stderr",
     "output_type": "stream",
     "text": [
      "\n"
     ]
    }
   ],
   "source": [
    "import os\n",
    "import shutil\n",
    "import random\n",
    "from tqdm import tqdm\n",
    "\n",
    "# Define the root directory where the original dataset is located\n",
    "original_root_dir = r'D:\\SnapfoliaV2\\DS_COMPILED'\n",
    "\n",
    "# Define the root directory for the new dataset containing 100 images per class\n",
    "new_dataset_root_dir = r'DS_100'\n",
    "\n",
    "# Create the new dataset root directory if it doesn't exist\n",
    "os.makedirs(new_dataset_root_dir, exist_ok=True)\n",
    "\n",
    "# Number of images to select from each leaf class directory\n",
    "num_images_per_class = 100\n",
    "\n",
    "def select_and_copy_images(original_root, new_root, num_images):\n",
    "    # List all directories (leaf classes) under the original root directory\n",
    "    leaf_classes = os.listdir(original_root)\n",
    "    \n",
    "    # Initialize tqdm to show progress bar\n",
    "    for leaf_class in tqdm(leaf_classes, desc=\"Copying images\", unit=\"class\"):\n",
    "        class_dir = os.path.join(original_root, leaf_class)\n",
    "        if os.path.isdir(class_dir):\n",
    "            # Create directory for the class in the new dataset if it doesn't exist\n",
    "            new_class_dir = os.path.join(new_root, leaf_class)\n",
    "            os.makedirs(new_class_dir, exist_ok=True)\n",
    "            \n",
    "            # List all files in the leaf class directory\n",
    "            files = os.listdir(class_dir)\n",
    "            \n",
    "            # Shuffle the list of files to randomly select images\n",
    "            random.shuffle(files)\n",
    "            \n",
    "            # Ensure we don't exceed the number of available files\n",
    "            num_files_to_copy = min(num_images, len(files))\n",
    "            \n",
    "            # Select the first num_images files (after shuffling)\n",
    "            selected_files = files[:num_files_to_copy]\n",
    "            \n",
    "            # Copy selected files to the new directory\n",
    "            for filename in selected_files:\n",
    "                src_file = os.path.join(class_dir, filename)\n",
    "                dest_file = os.path.join(new_class_dir, filename)\n",
    "                shutil.copy(src_file, dest_file)\n",
    "\n",
    "                # Print progress information\n",
    "                print(f\"Copied {filename} from {leaf_class}\")\n",
    "\n",
    "# Call the function to select and copy images\n",
    "select_and_copy_images(original_root_dir, new_dataset_root_dir, num_images_per_class)\n",
    "\n",
    "print(f\"Selected {num_images_per_class} images from each leaf class directory under {original_root_dir} and copied them to {new_dataset_root_dir}\")"
   ]
  }
 ],
 "metadata": {
  "kernelspec": {
   "display_name": "Python 3 (ipykernel)",
   "language": "python",
   "name": "python3"
  },
  "language_info": {
   "codemirror_mode": {
    "name": "ipython",
    "version": 3
   },
   "file_extension": ".py",
   "mimetype": "text/x-python",
   "name": "python",
   "nbconvert_exporter": "python",
   "pygments_lexer": "ipython3",
   "version": "3.11.7"
  }
 },
 "nbformat": 4,
 "nbformat_minor": 5
}
