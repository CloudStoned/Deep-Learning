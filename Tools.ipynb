{
 "cells": [
  {
   "cell_type": "markdown",
   "id": "6c4a3edd-f49a-4fba-8d8d-eb1de77d434d",
   "metadata": {
    "jp-MarkdownHeadingCollapsed": true
   },
   "source": [
    "### COMPILE DIR"
   ]
  },
  {
   "cell_type": "code",
   "execution_count": 15,
   "id": "c41bc5d3-846b-49a1-9047-28448bad6b74",
   "metadata": {},
   "outputs": [
    {
     "name": "stderr",
     "output_type": "stream",
     "text": [
      "Processing users:   0%|                                                                         | 0/19 [00:00<?, ?it/s]"
     ]
    },
    {
     "name": "stdout",
     "output_type": "stream",
     "text": [
      "Processing files in D:\\SnapfoliaV2\\OJT SNAPFOLIA\\June 10 2024 - Snapfolia\\AC Narvaez - Itel RS4\n"
     ]
    },
    {
     "name": "stderr",
     "output_type": "stream",
     "text": [
      "Processing users:   0%|                                                                         | 0/19 [00:05<?, ?it/s]"
     ]
    },
    {
     "name": "stdout",
     "output_type": "stream",
     "text": [
      "Leaf class directory D:\\SnapfoliaV2\\OJT SNAPFOLIA\\June 10 2024 - Snapfolia\\AC Narvaez - Itel RS4\\Mangga does not exist in D:\\SnapfoliaV2\\OJT SNAPFOLIA\\June 10 2024 - Snapfolia\\AC Narvaez - Itel RS4.\n"
     ]
    },
    {
     "name": "stderr",
     "output_type": "stream",
     "text": [
      "Processing users:   5%|███▍                                                             | 1/19 [00:06<01:53,  6.31s/it]"
     ]
    },
    {
     "name": "stdout",
     "output_type": "stream",
     "text": [
      "Processing files in D:\\SnapfoliaV2\\OJT SNAPFOLIA\\June 10 2024 - Snapfolia\\Angelo Castillo - Redmi 10 (2022)\n"
     ]
    },
    {
     "name": "stderr",
     "output_type": "stream",
     "text": [
      "Processing users:  11%|██████▊                                                          | 2/19 [00:22<03:29, 12.33s/it]"
     ]
    },
    {
     "name": "stdout",
     "output_type": "stream",
     "text": [
      "Processing files in D:\\SnapfoliaV2\\OJT SNAPFOLIA\\June 10 2024 - Snapfolia\\Carlo Parducho - Infinix 05G (2023)\n"
     ]
    },
    {
     "name": "stderr",
     "output_type": "stream",
     "text": [
      "Processing users:  16%|██████████▎                                                      | 3/19 [00:51<05:13, 19.62s/it]"
     ]
    },
    {
     "name": "stdout",
     "output_type": "stream",
     "text": [
      "Leaf class directory D:\\SnapfoliaV2\\OJT SNAPFOLIA\\June 10 2024 - Snapfolia\\Carlo Parducho - Infinix 05G (2023)\\Palo Maria does not exist in D:\\SnapfoliaV2\\OJT SNAPFOLIA\\June 10 2024 - Snapfolia\\Carlo Parducho - Infinix 05G (2023).\n",
      "Processing files in D:\\SnapfoliaV2\\OJT SNAPFOLIA\\June 10 2024 - Snapfolia\\CBenedict Gutierrez - Huawei Nova10\n"
     ]
    },
    {
     "name": "stderr",
     "output_type": "stream",
     "text": [
      "Processing users:  21%|█████████████▋                                                   | 4/19 [01:12<05:04, 20.32s/it]"
     ]
    },
    {
     "name": "stdout",
     "output_type": "stream",
     "text": [
      "Processing files in D:\\SnapfoliaV2\\OJT SNAPFOLIA\\June 10 2024 - Snapfolia\\Cloud Bagtas - Infinix 05G\n"
     ]
    },
    {
     "name": "stderr",
     "output_type": "stream",
     "text": [
      "Processing users:  26%|█████████████████                                                | 5/19 [01:25<04:07, 17.66s/it]"
     ]
    },
    {
     "name": "stdout",
     "output_type": "stream",
     "text": [
      "Processing files in D:\\SnapfoliaV2\\OJT SNAPFOLIA\\June 10 2024 - Snapfolia\\Daniel Mercado - Infinix Smart 8\n"
     ]
    },
    {
     "name": "stderr",
     "output_type": "stream",
     "text": [
      "Processing users:  32%|████████████████████▌                                            | 6/19 [01:37<03:25, 15.82s/it]"
     ]
    },
    {
     "name": "stdout",
     "output_type": "stream",
     "text": [
      "Processing files in D:\\SnapfoliaV2\\OJT SNAPFOLIA\\June 10 2024 - Snapfolia\\Dhan Mabilangan - iPhone 13\n"
     ]
    },
    {
     "name": "stderr",
     "output_type": "stream",
     "text": [
      "Processing users:  37%|███████████████████████▉                                         | 7/19 [01:49<02:53, 14.42s/it]"
     ]
    },
    {
     "name": "stdout",
     "output_type": "stream",
     "text": [
      "Processing files in D:\\SnapfoliaV2\\OJT SNAPFOLIA\\June 10 2024 - Snapfolia\\Franco Villamor - Nubia Z50S\n"
     ]
    },
    {
     "name": "stderr",
     "output_type": "stream",
     "text": [
      "Processing users:  42%|███████████████████████████▎                                     | 8/19 [01:56<02:14, 12.26s/it]"
     ]
    },
    {
     "name": "stdout",
     "output_type": "stream",
     "text": [
      "Processing files in D:\\SnapfoliaV2\\OJT SNAPFOLIA\\June 10 2024 - Snapfolia\\Hans Fernando - Tecno Pova Neo 2\n"
     ]
    },
    {
     "name": "stderr",
     "output_type": "stream",
     "text": [
      "Processing users:  47%|██████████████████████████████▊                                  | 9/19 [02:20<02:38, 15.89s/it]"
     ]
    },
    {
     "name": "stdout",
     "output_type": "stream",
     "text": [
      "Leaf class directory D:\\SnapfoliaV2\\OJT SNAPFOLIA\\June 10 2024 - Snapfolia\\Hans Fernando - Tecno Pova Neo 2\\Palo Maria does not exist in D:\\SnapfoliaV2\\OJT SNAPFOLIA\\June 10 2024 - Snapfolia\\Hans Fernando - Tecno Pova Neo 2.\n",
      "Processing files in D:\\SnapfoliaV2\\OJT SNAPFOLIA\\June 10 2024 - Snapfolia\\Jester Cruz - iPhone 13 Pro\n"
     ]
    },
    {
     "name": "stderr",
     "output_type": "stream",
     "text": [
      "Processing users:  53%|█████████████████████████████████▋                              | 10/19 [02:37<02:26, 16.26s/it]"
     ]
    },
    {
     "name": "stdout",
     "output_type": "stream",
     "text": [
      "Leaf class directory D:\\SnapfoliaV2\\OJT SNAPFOLIA\\June 10 2024 - Snapfolia\\Jester Cruz - iPhone 13 Pro\\Palo Maria does not exist in D:\\SnapfoliaV2\\OJT SNAPFOLIA\\June 10 2024 - Snapfolia\\Jester Cruz - iPhone 13 Pro.\n",
      "Processing files in D:\\SnapfoliaV2\\OJT SNAPFOLIA\\June 10 2024 - Snapfolia\\Kurt Magcawas - Redmi Note 10\n"
     ]
    },
    {
     "name": "stderr",
     "output_type": "stream",
     "text": [
      "Processing users:  58%|█████████████████████████████████████                           | 11/19 [03:00<02:25, 18.15s/it]"
     ]
    },
    {
     "name": "stdout",
     "output_type": "stream",
     "text": [
      "Processing files in D:\\SnapfoliaV2\\OJT SNAPFOLIA\\June 10 2024 - Snapfolia\\Marvin Buquis - Redmi Note 11\n"
     ]
    },
    {
     "name": "stderr",
     "output_type": "stream",
     "text": [
      "Processing users:  63%|████████████████████████████████████████▍                       | 12/19 [03:20<02:11, 18.83s/it]"
     ]
    },
    {
     "name": "stdout",
     "output_type": "stream",
     "text": [
      "Processing files in D:\\SnapfoliaV2\\OJT SNAPFOLIA\\June 10 2024 - Snapfolia\\Neil Ongsinco - Realme 7\n"
     ]
    },
    {
     "name": "stderr",
     "output_type": "stream",
     "text": [
      "Processing users:  68%|███████████████████████████████████████████▊                    | 13/19 [03:37<01:49, 18.32s/it]"
     ]
    },
    {
     "name": "stdout",
     "output_type": "stream",
     "text": [
      "Processing files in D:\\SnapfoliaV2\\OJT SNAPFOLIA\\June 10 2024 - Snapfolia\\Nikka Farofaldane - iPhone 6s\n"
     ]
    },
    {
     "name": "stderr",
     "output_type": "stream",
     "text": [
      "Processing users:  68%|███████████████████████████████████████████▊                    | 13/19 [03:38<01:49, 18.32s/it]"
     ]
    },
    {
     "name": "stdout",
     "output_type": "stream",
     "text": [
      "Subfolder D:\\SnapfoliaV2\\OJT SNAPFOLIA\\June 10 2024 - Snapfolia\\Nikka Farofaldane - iPhone 6s\\Apitong\\Discard does not exist in D:\\SnapfoliaV2\\OJT SNAPFOLIA\\June 10 2024 - Snapfolia\\Nikka Farofaldane - iPhone 6s\\Apitong.\n"
     ]
    },
    {
     "name": "stderr",
     "output_type": "stream",
     "text": [
      "Processing users:  74%|███████████████████████████████████████████████▏                | 14/19 [04:00<01:38, 19.70s/it]"
     ]
    },
    {
     "name": "stdout",
     "output_type": "stream",
     "text": [
      "Processing files in D:\\SnapfoliaV2\\OJT SNAPFOLIA\\June 10 2024 - Snapfolia\\Prince Mampusti - Huawei Y7\n"
     ]
    },
    {
     "name": "stderr",
     "output_type": "stream",
     "text": [
      "Processing users:  79%|██████████████████████████████████████████████████▌             | 15/19 [04:34<01:35, 23.83s/it]"
     ]
    },
    {
     "name": "stdout",
     "output_type": "stream",
     "text": [
      "Processing files in D:\\SnapfoliaV2\\OJT SNAPFOLIA\\June 10 2024 - Snapfolia\\Reymer Unciano - Honor 8x\n"
     ]
    },
    {
     "name": "stderr",
     "output_type": "stream",
     "text": [
      "Processing users:  84%|█████████████████████████████████████████████████████▉          | 16/19 [05:05<01:18, 26.09s/it]"
     ]
    },
    {
     "name": "stdout",
     "output_type": "stream",
     "text": [
      "Processing files in D:\\SnapfoliaV2\\OJT SNAPFOLIA\\June 10 2024 - Snapfolia\\Yvonne Galicia - Samsung Galaxy A32\n"
     ]
    },
    {
     "name": "stderr",
     "output_type": "stream",
     "text": [
      "Processing users:  89%|█████████████████████████████████████████████████████████▎      | 17/19 [05:33<00:53, 26.77s/it]"
     ]
    },
    {
     "name": "stdout",
     "output_type": "stream",
     "text": [
      "Processing files in D:\\SnapfoliaV2\\OJT SNAPFOLIA\\June 10 2024 - Snapfolia\\z Alren Tobias - Huawei Nova 7\n"
     ]
    },
    {
     "name": "stderr",
     "output_type": "stream",
     "text": [
      "Processing users:  95%|████████████████████████████████████████████████████████████▋   | 18/19 [05:58<00:26, 26.05s/it]"
     ]
    },
    {
     "name": "stdout",
     "output_type": "stream",
     "text": [
      "Processing files in D:\\SnapfoliaV2\\OJT SNAPFOLIA\\June 10 2024 - Snapfolia\\z Clark Abutal - iPhone 11 ata\n"
     ]
    },
    {
     "name": "stderr",
     "output_type": "stream",
     "text": [
      "Processing users:  95%|████████████████████████████████████████████████████████████▋   | 18/19 [06:09<00:26, 26.05s/it]"
     ]
    },
    {
     "name": "stdout",
     "output_type": "stream",
     "text": [
      "Leaf class directory D:\\SnapfoliaV2\\OJT SNAPFOLIA\\June 10 2024 - Snapfolia\\z Clark Abutal - iPhone 11 ata\\Mangga does not exist in D:\\SnapfoliaV2\\OJT SNAPFOLIA\\June 10 2024 - Snapfolia\\z Clark Abutal - iPhone 11 ata.\n"
     ]
    },
    {
     "name": "stderr",
     "output_type": "stream",
     "text": [
      "Processing users: 100%|████████████████████████████████████████████████████████████████| 19/19 [06:11<00:00, 19.55s/it]"
     ]
    },
    {
     "name": "stdout",
     "output_type": "stream",
     "text": [
      "Files copied to new directory structure under DS_COMPILED\n"
     ]
    },
    {
     "name": "stderr",
     "output_type": "stream",
     "text": [
      "\n"
     ]
    }
   ],
   "source": [
    "import os\n",
    "import shutil\n",
    "from tqdm import tqdm\n",
    "\n",
    "# Define the root directory for the original dataset\n",
    "original_root_dir = r'D:\\SnapfoliaV2\\OJT SNAPFOLIA\\June 10 2024 - Snapfolia'\n",
    "\n",
    "# Define the root directory for the new dataset\n",
    "new_dataset_root_dir = r'DS_COMPILED'\n",
    "\n",
    "# Define the leaf classes\n",
    "leaf_classes = [\"Apitong\", \"Balete\", \"Bayabas\", \"Kamagong\", \"Langka\", \"Mahogany\", \"Mangga\", \"Palo Maria\"]\n",
    "\n",
    "# Define the subfolders to look for within each leaf class directory\n",
    "subfolders = [\"Back\", \"Discard\", \"Front\", \"Tilt\"]\n",
    "\n",
    "# Create the new dataset root directory\n",
    "os.makedirs(new_dataset_root_dir, exist_ok=True)\n",
    "\n",
    "# Create subdirectories named after the leaf classes within the new dataset directory\n",
    "for leaf_class in leaf_classes:\n",
    "    leaf_class_dir = os.path.join(new_dataset_root_dir, leaf_class)\n",
    "    os.makedirs(leaf_class_dir, exist_ok=True)\n",
    "\n",
    "def copy_files_to_new_structure(original_root, new_root, leaf_classes, subfolders):\n",
    "    for user_dir in tqdm(os.listdir(original_root), desc=\"Processing users\"):\n",
    "        user_dir_path = os.path.join(original_root, user_dir)\n",
    "        if os.path.isdir(user_dir_path):\n",
    "            tqdm.write(f\"Processing files in {user_dir_path}\")\n",
    "            # Iterate through leaf classes within each user directory\n",
    "            for leaf_class in leaf_classes:\n",
    "                leaf_class_dir_path = os.path.join(user_dir_path, leaf_class)\n",
    "                if os.path.isdir(leaf_class_dir_path):\n",
    "                    for subfolder in subfolders:\n",
    "                        subfolder_path = os.path.join(leaf_class_dir_path, subfolder)\n",
    "                        if os.path.isdir(subfolder_path):\n",
    "                            for filename in os.listdir(subfolder_path):\n",
    "                                src_file = os.path.join(subfolder_path, filename)\n",
    "                                dest_dir = os.path.join(new_root, leaf_class)\n",
    "                                os.makedirs(dest_dir, exist_ok=True)\n",
    "                                dest_file = os.path.join(dest_dir, filename)\n",
    "                                shutil.copy(src_file, dest_file)\n",
    "                        else:\n",
    "                            tqdm.write(f\"Subfolder {subfolder_path} does not exist in {leaf_class_dir_path}.\")\n",
    "                else:\n",
    "                    tqdm.write(f\"Leaf class directory {leaf_class_dir_path} does not exist in {user_dir_path}.\")\n",
    "\n",
    "# Call the function to copy files\n",
    "copy_files_to_new_structure(original_root_dir, new_dataset_root_dir, leaf_classes, subfolders)\n",
    "\n",
    "print(f\"Files copied to new directory structure under {new_dataset_root_dir}\")\n"
   ]
  },
  {
   "cell_type": "markdown",
   "id": "09dbf924-829d-4815-a918-624fc594caeb",
   "metadata": {
    "jp-MarkdownHeadingCollapsed": true
   },
   "source": [
    "### GET SPECIFIC NUM OF IMAGES"
   ]
  },
  {
   "cell_type": "code",
   "execution_count": null,
   "id": "e2b852a5-9b69-4784-b33d-b7881744e170",
   "metadata": {},
   "outputs": [],
   "source": [
    "import os\n",
    "import shutil\n",
    "import random\n",
    "from tqdm import tqdm\n",
    "\n",
    "# Define the root directory where the original dataset is located\n",
    "original_root_dir = r'D:\\SnapfoliaV2\\DS_COMPILED'\n",
    "\n",
    "# Define the root directory for the new dataset containing 100 images per class\n",
    "new_dataset_root_dir = r'DS_100'\n",
    "\n",
    "# Create the new dataset root directory if it doesn't exist\n",
    "os.makedirs(new_dataset_root_dir, exist_ok=True)\n",
    "\n",
    "# Number of images to select from each leaf class directory\n",
    "num_images_per_class = 100\n",
    "\n",
    "def select_and_copy_images(original_root, new_root, num_images):\n",
    "    # List all directories (leaf classes) under the original root directory\n",
    "    leaf_classes = os.listdir(original_root)\n",
    "    \n",
    "    # Initialize tqdm to show progress bar\n",
    "    for leaf_class in tqdm(leaf_classes, desc=\"Copying images\", unit=\"class\"):\n",
    "        class_dir = os.path.join(original_root, leaf_class)\n",
    "        if os.path.isdir(class_dir):\n",
    "            # Create directory for the class in the new dataset if it doesn't exist\n",
    "            new_class_dir = os.path.join(new_root, leaf_class)\n",
    "            os.makedirs(new_class_dir, exist_ok=True)\n",
    "            \n",
    "            # List all files in the leaf class directory\n",
    "            files = os.listdir(class_dir)\n",
    "            \n",
    "            # Shuffle the list of files to randomly select images\n",
    "            random.shuffle(files)\n",
    "            \n",
    "            # Ensure we don't exceed the number of available files\n",
    "            num_files_to_copy = min(num_images, len(files))\n",
    "            \n",
    "            # Select the first num_images files (after shuffling)\n",
    "            selected_files = files[:num_files_to_copy]\n",
    "            \n",
    "            # Copy selected files to the new directory\n",
    "            for filename in selected_files:\n",
    "                src_file = os.path.join(class_dir, filename)\n",
    "                dest_file = os.path.join(new_class_dir, filename)\n",
    "                shutil.copy(src_file, dest_file)\n",
    "\n",
    "                # Print progress information\n",
    "                print(f\"Copied {filename} from {leaf_class}\")\n",
    "\n",
    "# Call the function to select and copy images\n",
    "select_and_copy_images(original_root_dir, new_dataset_root_dir, num_images_per_class)\n",
    "\n",
    "print(f\"Selected {num_images_per_class} images from each leaf class directory under {original_root_dir} and copied them to {new_dataset_root_dir}\")"
   ]
  },
  {
   "cell_type": "markdown",
   "id": "2515c9c3-d762-4f88-b45d-a5d689500da5",
   "metadata": {
    "jp-MarkdownHeadingCollapsed": true
   },
   "source": [
    "### Move to Leaf Dir"
   ]
  },
  {
   "cell_type": "code",
   "execution_count": 3,
   "id": "6ce33f3b-4f1a-4210-9e0b-25cff3575503",
   "metadata": {},
   "outputs": [
    {
     "name": "stderr",
     "output_type": "stream",
     "text": [
      "Copying files for leaf classes: 100%|██████████████████████████████████| 8/8 [00:46<00:00,  5.87s/it]"
     ]
    },
    {
     "name": "stdout",
     "output_type": "stream",
     "text": [
      "Files copied to new directory structure under DS_100\\leaf\n"
     ]
    },
    {
     "name": "stderr",
     "output_type": "stream",
     "text": [
      "\n"
     ]
    }
   ],
   "source": [
    "import os\n",
    "import shutil\n",
    "from tqdm import tqdm\n",
    "\n",
    "# Define the root directory for the original dataset\n",
    "original_root_dir = r'DS_100'\n",
    "\n",
    "# Define the leaf classes\n",
    "leaf_classes = [\"Apitong\", \"Balete\", \"Bayabas\", \"Kamagong\", \"Langka\", \"Mahogany\", \"Mangga\", \"Palo Maria\"]\n",
    "\n",
    "# Create the new \"leaf\" directory within the DS_COMPILED directory\n",
    "leaf_dir = os.path.join(original_root_dir, \"leaf\")\n",
    "os.makedirs(leaf_dir, exist_ok=True)\n",
    "\n",
    "def copy_files_to_leaf_directory(original_root, new_leaf_dir, leaf_classes):\n",
    "    for leaf_class in tqdm(leaf_classes, desc=\"Copying files for leaf classes\"):\n",
    "        leaf_class_dir_path = os.path.join(original_root, leaf_class)\n",
    "        if os.path.isdir(leaf_class_dir_path):\n",
    "            for filename in os.listdir(leaf_class_dir_path):\n",
    "                src_file = os.path.join(leaf_class_dir_path, filename)\n",
    "                dest_file = os.path.join(new_leaf_dir, filename)\n",
    "                shutil.copy(src_file, dest_file)\n",
    "        else:\n",
    "            tqdm.write(f\"Leaf class directory {leaf_class_dir_path} does not exist.\")\n",
    "\n",
    "# Call the function to copy files\n",
    "copy_files_to_leaf_directory(original_root_dir, leaf_dir, leaf_classes)\n",
    "\n",
    "print(f\"Files copied to new directory structure under {leaf_dir}\")"
   ]
  },
  {
   "cell_type": "code",
   "execution_count": null,
   "id": "69381610-86b2-4440-b99f-e3243a29f71d",
   "metadata": {},
   "outputs": [],
   "source": []
  }
 ],
 "metadata": {
  "kernelspec": {
   "display_name": "Python 3 (ipykernel)",
   "language": "python",
   "name": "python3"
  },
  "language_info": {
   "codemirror_mode": {
    "name": "ipython",
    "version": 3
   },
   "file_extension": ".py",
   "mimetype": "text/x-python",
   "name": "python",
   "nbconvert_exporter": "python",
   "pygments_lexer": "ipython3",
   "version": "3.11.7"
  }
 },
 "nbformat": 4,
 "nbformat_minor": 5
}
